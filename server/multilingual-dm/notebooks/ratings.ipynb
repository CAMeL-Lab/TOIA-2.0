{
 "cells": [
  {
   "cell_type": "code",
   "execution_count": 164,
   "metadata": {},
   "outputs": [],
   "source": [
    "import seaborn as sns\n",
    "import pandas as pd\n",
    "import matplotlib.pyplot as plt\n",
    "import numpy as np\n",
    "from scipy.stats import ttest_ind\n",
    "from scipy.stats import levene"
   ]
  },
  {
   "cell_type": "code",
   "execution_count": 305,
   "metadata": {},
   "outputs": [
    {
     "name": "stdout",
     "output_type": "stream",
     "text": [
      "Total interactions: (717, 11)\n",
      "Monolingual interactions: (360, 11)\n",
      "Crosslingual interactions: (357, 11)\n"
     ]
    }
   ],
   "source": [
    "df = pd.read_csv('./player_feedback_total.csv')\n",
    "df['type'] = np.where(df['video_language'] == df['interactor_language'], 'monolingual', 'crosslingual')\n",
    "\n",
    "df_dialogue = df[df['subject'] == 'Dialogue']\n",
    "df_subtitles = df[df['subject'] == 'Subtitles']\n",
    "print(f'Total interactions: {df_dialogue.shape}')\n",
    "df_monolingual = df_dialogue[df_dialogue['video_language'] == df_dialogue['interactor_language']]\n",
    "print(f'Monolingual interactions: {df_monolingual.shape}')\n",
    "df_crosslingual = df_dialogue[df_dialogue['video_language'] != df_dialogue['interactor_language']]\n",
    "print(f'Crosslingual interactions: {df_crosslingual.shape}')\n"
   ]
  },
  {
   "cell_type": "code",
   "execution_count": 304,
   "metadata": {},
   "outputs": [
    {
     "name": "stdout",
     "output_type": "stream",
     "text": [
      "4.511111111111111\n",
      "4.526610644257703\n"
     ]
    }
   ],
   "source": [
    "\n",
    "df_monolingual_sub = df_subtitles[df_subtitles['video_language'] == df_subtitles['interactor_language']]\n",
    "df_crosslingual_sub = df_subtitles[df_subtitles['video_language'] != df_subtitles['interactor_language']]\n",
    "\n",
    "print(df_monolingual_sub['rating'].mean())\n",
    "print(df_crosslingual_sub['rating'].mean())"
   ]
  },
  {
   "cell_type": "code",
   "execution_count": 174,
   "metadata": {},
   "outputs": [],
   "source": [
    "df_en_en = df_dialogue[(df_dialogue['video_language'] == 'en-US') & (df_dialogue['interactor_language'] == 'en-US')]\n",
    "\n",
    "df_en_es = df_dialogue[(df_dialogue['video_language'] == 'en-US') & (df_dialogue['interactor_language'] == 'es-ES')]\n",
    "df_es_en = df_dialogue[(df_dialogue['video_language'] == 'es-ES') & (df_dialogue['interactor_language'] == 'en-US')]\n",
    "df_es_es = df_dialogue[(df_dialogue['video_language'] == 'es-ES') & (df_dialogue['interactor_language'] == 'es-ES')]\n",
    "\n",
    "df_en_ar = df_dialogue[(df_dialogue['video_language'] == 'en-US') & (df_dialogue['interactor_language'] == 'ar-AE')]\n",
    "df_ar_en = df_dialogue[(df_dialogue['video_language'] == 'ar-AE') & (df_dialogue['interactor_language'] == 'en-US')]\n",
    "df_ar_ar = df_dialogue[(df_dialogue['video_language'] == 'ar-AE') & (df_dialogue['interactor_language'] == 'ar-AE')]"
   ]
  },
  {
   "attachments": {},
   "cell_type": "markdown",
   "metadata": {},
   "source": [
    "# All groups"
   ]
  },
  {
   "cell_type": "code",
   "execution_count": 175,
   "metadata": {},
   "outputs": [],
   "source": [
    "df_a_en_en = df_dialogue[(df_dialogue['toia_id'] == 6) & (df_dialogue['interactor_language'] == 'en-US')]\n",
    "df_b_en_en = df_dialogue[(df_dialogue['toia_id'] == 5) & (df_dialogue['interactor_language'] == 'en-US')]\n",
    "\n",
    "df_a_en_es = df_dialogue[(df_dialogue['toia_id'] == 6) & (df_dialogue['interactor_language'] == 'es-ES')]\n",
    "df_a_es_en = df_dialogue[(df_dialogue['toia_id'] == 7) & (df_dialogue['interactor_language'] == 'en-US')]\n",
    "df_a_es_es = df_dialogue[(df_dialogue['toia_id'] == 7) & (df_dialogue['interactor_language'] == 'es-ES')]\n",
    "\n",
    "df_b_en_ar = df_dialogue[(df_dialogue['toia_id'] == 5) & (df_dialogue['interactor_language'] == 'ar-AE')]\n",
    "df_b_ar_en = df_dialogue[(df_dialogue['toia_id'] == 8) & (df_dialogue['interactor_language'] == 'en-US')]\n",
    "df_b_ar_ar = df_dialogue[(df_dialogue['toia_id'] == 8) & (df_dialogue['interactor_language'] == 'ar-AE')]\n"
   ]
  },
  {
   "cell_type": "code",
   "execution_count": 176,
   "metadata": {},
   "outputs": [
    {
     "name": "stdout",
     "output_type": "stream",
     "text": [
      "2.8155339805825244\n",
      "3.198019801980198\n",
      "2.8529411764705883\n",
      "3.323529411764706\n",
      "2.4266666666666667\n",
      "2.3625\n",
      "2.1486486486486487\n",
      "2.45\n"
     ]
    }
   ],
   "source": [
    "print(df_a_en_en['rating'].mean())\n",
    "print(df_a_en_es['rating'].mean())\n",
    "print(df_a_es_en['rating'].mean())\n",
    "print(df_a_es_es['rating'].mean())\n",
    "\n",
    "print(df_b_en_en['rating'].mean())\n",
    "print(df_b_en_ar['rating'].mean())\n",
    "print(df_b_ar_en['rating'].mean())\n",
    "print(df_b_ar_ar['rating'].mean())\n"
   ]
  },
  {
   "cell_type": "code",
   "execution_count": 300,
   "metadata": {},
   "outputs": [],
   "source": [
    "\n",
    "df_a_en_en = df_subtitles[(df_subtitles['toia_id'] == 6) & (df_subtitles['interactor_language'] == 'en-US')]\n",
    "df_b_en_en = df_subtitles[(df_subtitles['toia_id'] == 5) & (df_subtitles['interactor_language'] == 'en-US')]\n",
    "\n",
    "df_a_en_es = df_subtitles[(df_subtitles['toia_id'] == 6) & (df_subtitles['interactor_language'] == 'es-ES')]\n",
    "df_a_es_en = df_subtitles[(df_subtitles['toia_id'] == 7) & (df_subtitles['interactor_language'] == 'en-US')]\n",
    "df_a_es_es = df_subtitles[(df_subtitles['toia_id'] == 7) & (df_subtitles['interactor_language'] == 'es-ES')]\n",
    "\n",
    "df_b_en_ar = df_subtitles[(df_subtitles['toia_id'] == 5) & (df_subtitles['interactor_language'] == 'ar-AE')]\n",
    "df_b_ar_en = df_subtitles[(df_subtitles['toia_id'] == 8) & (df_subtitles['interactor_language'] == 'en-US')]\n",
    "df_b_ar_ar = df_subtitles[(df_subtitles['toia_id'] == 8) & (df_subtitles['interactor_language'] == 'ar-AE')]"
   ]
  },
  {
   "cell_type": "code",
   "execution_count": 301,
   "metadata": {},
   "outputs": [
    {
     "name": "stdout",
     "output_type": "stream",
     "text": [
      "4.213592233009709\n",
      "4.603960396039604\n",
      "4.490196078431373\n",
      "5.0\n",
      "3.96\n",
      "4.45\n",
      "4.554054054054054\n",
      "4.7875\n"
     ]
    }
   ],
   "source": [
    "print(df_a_en_en['rating'].mean())\n",
    "print(df_a_en_es['rating'].mean())\n",
    "print(df_a_es_en['rating'].mean())\n",
    "print(df_a_es_es['rating'].mean())\n",
    "\n",
    "print(df_b_en_en['rating'].mean())\n",
    "print(df_b_en_ar['rating'].mean())\n",
    "print(df_b_ar_en['rating'].mean())\n",
    "print(df_b_ar_ar['rating'].mean())\n"
   ]
  },
  {
   "cell_type": "code",
   "execution_count": 269,
   "metadata": {},
   "outputs": [
    {
     "name": "stdout",
     "output_type": "stream",
     "text": [
      "rating\n",
      "1    30\n",
      "2    13\n",
      "3    17\n",
      "4    11\n",
      "5     9\n",
      "Name: rating, dtype: int64\n"
     ]
    }
   ],
   "source": [
    "# print(df_a_en_en.groupby('rating')['rating'].count())\n",
    "# print(df_a_en_es.groupby('rating')['rating'].count())\n",
    "# print(df_a_es_en.groupby('rating')['rating'].count())\n",
    "# print(df_a_es_es.groupby('rating')['rating'].count())\n",
    "\n",
    "# print(df_b_en_en.groupby('rating')['rating'].count())\n",
    "# print(df_b_en_ar.groupby('rating')['rating'].count())\n",
    "# print(df_b_ar_en.groupby('rating')['rating'].count())\n",
    "print(df_b_ar_ar.groupby('rating')['rating'].count())\n"
   ]
  },
  {
   "attachments": {},
   "cell_type": "markdown",
   "metadata": {},
   "source": [
    "# SET A vs SET B with interactor language"
   ]
  },
  {
   "cell_type": "code",
   "execution_count": 177,
   "metadata": {},
   "outputs": [],
   "source": [
    "df_a_en = df_dialogue[((df_dialogue['toia_id'] == 6) | (df_dialogue['toia_id'] == 7)) & (df_dialogue['interactor_language'] == 'en-US')]\n",
    "df_a_es = df_dialogue[((df_dialogue['toia_id'] == 6) | (df_dialogue['toia_id'] == 7)) & (df_dialogue['interactor_language'] == 'es-ES')]\n",
    "\n",
    "df_b_en = df_dialogue[((df_dialogue['toia_id'] == 5) | (df_dialogue['toia_id'] == 8)) & (df_dialogue['interactor_language'] == 'en-US')]\n",
    "df_b_ar = df_dialogue[((df_dialogue['toia_id'] == 5) | (df_dialogue['toia_id'] == 8)) & (df_dialogue['interactor_language'] == 'ar-AE')]"
   ]
  },
  {
   "cell_type": "code",
   "execution_count": 178,
   "metadata": {},
   "outputs": [
    {
     "name": "stdout",
     "output_type": "stream",
     "text": [
      "2.8341463414634145\n",
      "3.2610837438423643\n",
      "2.2885906040268456\n",
      "2.40625\n"
     ]
    }
   ],
   "source": [
    "print(df_a_en['rating'].mean())\n",
    "print(df_a_es['rating'].mean())\n",
    "print(df_b_en['rating'].mean())\n",
    "print(df_b_ar['rating'].mean())"
   ]
  },
  {
   "cell_type": "code",
   "execution_count": 270,
   "metadata": {},
   "outputs": [
    {
     "name": "stdout",
     "output_type": "stream",
     "text": [
      "rating\n",
      "1    57\n",
      "2    38\n",
      "3    39\n",
      "4    24\n",
      "5    47\n",
      "Name: rating, dtype: int64\n",
      "rating\n",
      "1    15\n",
      "2    54\n",
      "3    45\n",
      "4    41\n",
      "5    48\n",
      "Name: rating, dtype: int64\n",
      "rating\n",
      "1    56\n",
      "2    42\n",
      "3    15\n",
      "4    24\n",
      "5    12\n",
      "Name: rating, dtype: int64\n",
      "rating\n",
      "1    58\n",
      "2    26\n",
      "3    44\n",
      "4    17\n",
      "5    15\n",
      "Name: rating, dtype: int64\n"
     ]
    }
   ],
   "source": [
    "\n",
    "print(df_a_en.groupby('rating')['rating'].count())\n",
    "print(df_a_es.groupby('rating')['rating'].count())\n",
    "print(df_b_en.groupby('rating')['rating'].count())\n",
    "print(df_b_ar.groupby('rating')['rating'].count())"
   ]
  },
  {
   "cell_type": "markdown",
   "metadata": {},
   "source": [
    "# SET A vs SET B"
   ]
  },
  {
   "cell_type": "code",
   "execution_count": 272,
   "metadata": {},
   "outputs": [],
   "source": [
    "df_a_en = df_dialogue[(df_dialogue['toia_id'] == 6)]\n",
    "df_a_es = df_dialogue[(df_dialogue['toia_id'] == 7)]\n",
    "\n",
    "df_b_en = df_dialogue[(df_dialogue['toia_id'] == 5)]\n",
    "df_b_ar = df_dialogue[(df_dialogue['toia_id'] == 8)]"
   ]
  },
  {
   "cell_type": "code",
   "execution_count": 273,
   "metadata": {},
   "outputs": [
    {
     "name": "stdout",
     "output_type": "stream",
     "text": [
      "rating\n",
      "1    38\n",
      "2    48\n",
      "3    38\n",
      "4    35\n",
      "5    45\n",
      "Name: rating, dtype: int64\n",
      "rating\n",
      "1    34\n",
      "2    44\n",
      "3    46\n",
      "4    30\n",
      "5    50\n",
      "Name: rating, dtype: int64\n",
      "rating\n",
      "1    54\n",
      "2    35\n",
      "3    30\n",
      "4    23\n",
      "5    13\n",
      "Name: rating, dtype: int64\n",
      "rating\n",
      "1    60\n",
      "2    33\n",
      "3    29\n",
      "4    18\n",
      "5    14\n",
      "Name: rating, dtype: int64\n"
     ]
    }
   ],
   "source": [
    "print(df_a_en.groupby('rating')['rating'].count())\n",
    "print(df_a_es.groupby('rating')['rating'].count())\n",
    "print(df_b_en.groupby('rating')['rating'].count())\n",
    "print(df_b_ar.groupby('rating')['rating'].count())"
   ]
  },
  {
   "cell_type": "code",
   "execution_count": 290,
   "metadata": {},
   "outputs": [
    {
     "name": "stdout",
     "output_type": "stream",
     "text": [
      "3.0049019607843137\n",
      "3.088235294117647\n",
      "2.393548387096774\n",
      "2.3051948051948052\n"
     ]
    }
   ],
   "source": [
    "print(df_a_en['rating'].mean())\n",
    "print(df_a_es['rating'].mean())\n",
    "print(df_b_en['rating'].mean())\n",
    "print(df_b_ar['rating'].mean())"
   ]
  },
  {
   "attachments": {},
   "cell_type": "markdown",
   "metadata": {},
   "source": [
    "# SET A vs SET B regardless of interaction language"
   ]
  },
  {
   "cell_type": "code",
   "execution_count": 179,
   "metadata": {},
   "outputs": [],
   "source": [
    "\n",
    "df_a = df_dialogue[((df_dialogue['toia_id'] == 6) | (df_dialogue['toia_id'] == 7))]\n",
    "\n",
    "df_b = df_dialogue[((df_dialogue['toia_id'] == 5) | (df_dialogue['toia_id'] == 8))]"
   ]
  },
  {
   "cell_type": "code",
   "execution_count": 180,
   "metadata": {},
   "outputs": [
    {
     "name": "stdout",
     "output_type": "stream",
     "text": [
      "3.0465686274509802\n",
      "2.349514563106796\n"
     ]
    }
   ],
   "source": [
    "print(df_a['rating'].mean())\n",
    "print(df_b['rating'].mean())"
   ]
  },
  {
   "cell_type": "code",
   "execution_count": 274,
   "metadata": {},
   "outputs": [
    {
     "name": "stdout",
     "output_type": "stream",
     "text": [
      "rating\n",
      "1    72\n",
      "2    92\n",
      "3    84\n",
      "4    65\n",
      "5    95\n",
      "Name: rating, dtype: int64\n",
      "rating\n",
      "1    114\n",
      "2     68\n",
      "3     59\n",
      "4     41\n",
      "5     27\n",
      "Name: rating, dtype: int64\n"
     ]
    }
   ],
   "source": [
    "print(df_a.groupby('rating')['rating'].count())\n",
    "print(df_b.groupby('rating')['rating'].count())"
   ]
  },
  {
   "cell_type": "code",
   "execution_count": 181,
   "metadata": {},
   "outputs": [
    {
     "data": {
      "text/html": [
       "<div>\n",
       "<style scoped>\n",
       "    .dataframe tbody tr th:only-of-type {\n",
       "        vertical-align: middle;\n",
       "    }\n",
       "\n",
       "    .dataframe tbody tr th {\n",
       "        vertical-align: top;\n",
       "    }\n",
       "\n",
       "    .dataframe thead th {\n",
       "        text-align: right;\n",
       "    }\n",
       "</style>\n",
       "<table border=\"1\" class=\"dataframe\">\n",
       "  <thead>\n",
       "    <tr style=\"text-align: right;\">\n",
       "      <th></th>\n",
       "      <th>timestamp</th>\n",
       "      <th>video_id</th>\n",
       "      <th>toia_id</th>\n",
       "      <th>user_id</th>\n",
       "      <th>question</th>\n",
       "      <th>rating</th>\n",
       "      <th>video_language</th>\n",
       "      <th>interactor_language</th>\n",
       "      <th>similarity_score</th>\n",
       "      <th>subject</th>\n",
       "      <th>type</th>\n",
       "    </tr>\n",
       "  </thead>\n",
       "  <tbody>\n",
       "    <tr>\n",
       "      <th>0</th>\n",
       "      <td>1682500245158</td>\n",
       "      <td>Zyad_5_215_5ba20de7.mp4</td>\n",
       "      <td>5</td>\n",
       "      <td>11</td>\n",
       "      <td>What is your name?</td>\n",
       "      <td>5</td>\n",
       "      <td>en-US</td>\n",
       "      <td>en-US</td>\n",
       "      <td>0.409903</td>\n",
       "      <td>Dialogue</td>\n",
       "      <td>monolingual</td>\n",
       "    </tr>\n",
       "    <tr>\n",
       "      <th>3</th>\n",
       "      <td>1682500247062</td>\n",
       "      <td>Zyad_8_229_2cba727f.mp4</td>\n",
       "      <td>8</td>\n",
       "      <td>11</td>\n",
       "      <td>What is your name?</td>\n",
       "      <td>5</td>\n",
       "      <td>ar-AE</td>\n",
       "      <td>en-US</td>\n",
       "      <td>0.835117</td>\n",
       "      <td>Dialogue</td>\n",
       "      <td>crosslingual</td>\n",
       "    </tr>\n",
       "    <tr>\n",
       "      <th>4</th>\n",
       "      <td>1682500341805</td>\n",
       "      <td>Zyad_5_214_c08bc279.mp4</td>\n",
       "      <td>5</td>\n",
       "      <td>11</td>\n",
       "      <td>Where were you? Born?</td>\n",
       "      <td>1</td>\n",
       "      <td>en-US</td>\n",
       "      <td>en-US</td>\n",
       "      <td>0.513753</td>\n",
       "      <td>Dialogue</td>\n",
       "      <td>monolingual</td>\n",
       "    </tr>\n",
       "    <tr>\n",
       "      <th>6</th>\n",
       "      <td>1682500343822</td>\n",
       "      <td>Zyad_8_230_948f8af1.mp4</td>\n",
       "      <td>8</td>\n",
       "      <td>11</td>\n",
       "      <td>Where were you? Born?</td>\n",
       "      <td>5</td>\n",
       "      <td>ar-AE</td>\n",
       "      <td>en-US</td>\n",
       "      <td>0.651956</td>\n",
       "      <td>Dialogue</td>\n",
       "      <td>crosslingual</td>\n",
       "    </tr>\n",
       "    <tr>\n",
       "      <th>8</th>\n",
       "      <td>1682500401425</td>\n",
       "      <td>Zyad_5_257_a60d6b09.mp4</td>\n",
       "      <td>5</td>\n",
       "      <td>11</td>\n",
       "      <td>Do you have any siblings?</td>\n",
       "      <td>1</td>\n",
       "      <td>en-US</td>\n",
       "      <td>en-US</td>\n",
       "      <td>0.330594</td>\n",
       "      <td>Dialogue</td>\n",
       "      <td>monolingual</td>\n",
       "    </tr>\n",
       "  </tbody>\n",
       "</table>\n",
       "</div>"
      ],
      "text/plain": [
       "       timestamp                 video_id  toia_id  user_id  \\\n",
       "0  1682500245158  Zyad_5_215_5ba20de7.mp4        5       11   \n",
       "3  1682500247062  Zyad_8_229_2cba727f.mp4        8       11   \n",
       "4  1682500341805  Zyad_5_214_c08bc279.mp4        5       11   \n",
       "6  1682500343822  Zyad_8_230_948f8af1.mp4        8       11   \n",
       "8  1682500401425  Zyad_5_257_a60d6b09.mp4        5       11   \n",
       "\n",
       "                    question  rating video_language interactor_language  \\\n",
       "0         What is your name?       5          en-US               en-US   \n",
       "3         What is your name?       5          ar-AE               en-US   \n",
       "4      Where were you? Born?       1          en-US               en-US   \n",
       "6      Where were you? Born?       5          ar-AE               en-US   \n",
       "8  Do you have any siblings?       1          en-US               en-US   \n",
       "\n",
       "   similarity_score   subject          type  \n",
       "0          0.409903  Dialogue   monolingual  \n",
       "3          0.835117  Dialogue  crosslingual  \n",
       "4          0.513753  Dialogue   monolingual  \n",
       "6          0.651956  Dialogue  crosslingual  \n",
       "8          0.330594  Dialogue   monolingual  "
      ]
     },
     "execution_count": 181,
     "metadata": {},
     "output_type": "execute_result"
    }
   ],
   "source": [
    "df_dialogue.head()"
   ]
  },
  {
   "cell_type": "code",
   "execution_count": 291,
   "metadata": {},
   "outputs": [
    {
     "data": {
      "image/png": "[encoded data removed]",
      "text/plain": [
       "<Figure size 640x480 with 1 Axes>"
      ]
     },
     "metadata": {},
     "output_type": "display_data"
    },
    {
     "data": {
      "image/png": "[encoded data removed]",
      "text/plain": [
       "<Figure size 640x480 with 1 Axes>"
      ]
     },
     "metadata": {},
     "output_type": "display_data"
    }
   ],
   "source": [
    "# distribution of ratings in crosslingual and monoglingual interactions\n",
    "\n",
    "sns.histplot(data=df_monolingual, x =\"rating\", discrete=True)\n",
    "# plt.title(\"Monolingual\")\n",
    "plt.show()\n",
    "sns.histplot(data=df_crosslingual, x =\"rating\", discrete=True)\n",
    "# plt.title(\"Crosslingual\")\n",
    "plt.show()"
   ]
  },
  {
   "cell_type": "code",
   "execution_count": 281,
   "metadata": {},
   "outputs": [
    {
     "name": "stdout",
     "output_type": "stream",
     "text": [
      "rating\n",
      "1    91\n",
      "2    75\n",
      "3    71\n",
      "4    62\n",
      "5    61\n",
      "Name: rating, dtype: int64\n",
      "rating\n",
      "1    95\n",
      "2    85\n",
      "3    72\n",
      "4    44\n",
      "5    61\n",
      "Name: rating, dtype: int64\n"
     ]
    }
   ],
   "source": [
    "print(df_monolingual.groupby('rating')['rating'].count())\n",
    "print(df_crosslingual.groupby('rating')['rating'].count())"
   ]
  },
  {
   "cell_type": "code",
   "execution_count": 184,
   "metadata": {},
   "outputs": [],
   "source": [
    "mono_rating = df_monolingual['rating']\n",
    "cross_rating = df_crosslingual['rating']"
   ]
  },
  {
   "cell_type": "code",
   "execution_count": 185,
   "metadata": {},
   "outputs": [
    {
     "name": "stdout",
     "output_type": "stream",
     "text": [
      "0.0008190467680300708 0.9771764499700656\n"
     ]
    }
   ],
   "source": [
    "# Levene's test for equal variance\n",
    "stat, p_val = levene(mono_rating, cross_rating)\n",
    "print(stat, p_val)"
   ]
  },
  {
   "cell_type": "code",
   "execution_count": 289,
   "metadata": {},
   "outputs": [
    {
     "name": "stdout",
     "output_type": "stream",
     "text": [
      "-0.9640930567649197 0.33532522351473715\n"
     ]
    }
   ],
   "source": [
    "# Null hypothesis is that monolingual interactions perform the same as or worse than crosslingual interactions using multilingual embeddings\n",
    "# Alternative hypothesis is that monolingual interactions perform better than crosslingual interactions using multilingual embeddings\n",
    "\n",
    "# Perform a two-sample t-test\n",
    "t_stat, p_val = ttest_ind(cross_rating, mono_rating, equal_var=True)\n",
    "print(t_stat, p_val)\n",
    "\n",
    "# p value is 0.335 which is > 0.05 so we fail to reject the null hypothesis"
   ]
  },
  {
   "cell_type": "code",
   "execution_count": 187,
   "metadata": {},
   "outputs": [
    {
     "name": "stdout",
     "output_type": "stream",
     "text": [
      "Monolingual: 2.797222222222222\n",
      "Crosslingual: 2.6946778711484596\n"
     ]
    }
   ],
   "source": [
    "print(f\"Monolingual: {sum(mono_rating)/len(mono_rating)}\")\n",
    "print(f\"Crosslingual: {sum(cross_rating)/len(cross_rating)}\")"
   ]
  },
  {
   "cell_type": "code",
   "execution_count": 297,
   "metadata": {},
   "outputs": [
    {
     "data": {
      "image/png": "[encoded data removed]",
      "text/plain": [
       "<Figure size 640x480 with 1 Axes>"
      ]
     },
     "metadata": {},
     "output_type": "display_data"
    }
   ],
   "source": [
    "from scipy.stats import pearsonr\n",
    "ax = sns.regplot(df_dialogue, x='rating', y='similarity_score', x_estimator=np.mean, x_ci=95)\n",
    "plt.xlabel('Rating')\n",
    "plt.ylabel('Similarity Score')\n",
    "# plt.title('Rating vs Cosine Similarity')\n",
    "# call the scipy function for pearson correlation\n",
    "r, p = pearsonr(x=df_dialogue['rating'], y=df_dialogue['similarity_score'])\n",
    "# annotate the pearson correlation coefficient text to 2 decimal places\n",
    "plt.text(.75, .9, 'r={:.2f}'.format(r), transform=ax.transAxes)\n",
    "\n",
    "plt.show()"
   ]
  },
  {
   "cell_type": "code",
   "execution_count": 82,
   "metadata": {},
   "outputs": [
    {
     "data": {
      "text/html": [
       "<div>\n",
       "<style scoped>\n",
       "    .dataframe tbody tr th:only-of-type {\n",
       "        vertical-align: middle;\n",
       "    }\n",
       "\n",
       "    .dataframe tbody tr th {\n",
       "        vertical-align: top;\n",
       "    }\n",
       "\n",
       "    .dataframe thead th {\n",
       "        text-align: right;\n",
       "    }\n",
       "</style>\n",
       "<table border=\"1\" class=\"dataframe\">\n",
       "  <thead>\n",
       "    <tr style=\"text-align: right;\">\n",
       "      <th></th>\n",
       "      <th>First Name</th>\n",
       "      <th>Last Name</th>\n",
       "      <th>Email</th>\n",
       "      <th>Age</th>\n",
       "      <th>Gender</th>\n",
       "      <th>Which avatar are you interacting with</th>\n",
       "      <th>Please confirm the name of the avatar you interacted with?</th>\n",
       "      <th>Which language did you speak in?</th>\n",
       "      <th>How long was your interaction with the pair of avatars?</th>\n",
       "      <th>Rate your experience with the Avatar [Ease in finding answers to your questions (excluding questions that you were informed had no prerecorded answers to)]</th>\n",
       "      <th>...</th>\n",
       "      <th>How was the experience of talking to the avatar in English vs Arabic? (approx. 100 words)</th>\n",
       "      <th>Rate your experience with the quality of technology [Quality of sound]</th>\n",
       "      <th>Rate your experience with the quality of technology [Quality of video]</th>\n",
       "      <th>Rate your experience with the quality of technology [Ease in using the interface]</th>\n",
       "      <th>Rate your experience with the quality of technology [Quality of subtitles]</th>\n",
       "      <th>How was the experience of talking to the avatar in English vs Spanish? (approx. 100 words)</th>\n",
       "      <th>Rate your experience with the quality of technology [Quality of sound].1</th>\n",
       "      <th>Rate your experience with the quality of technology [Quality of video].1</th>\n",
       "      <th>Rate your experience with the quality of technology [Ease in using the interface].1</th>\n",
       "      <th>Rate your experience with the quality of technology [Quality of subtitles].1</th>\n",
       "    </tr>\n",
       "    <tr>\n",
       "      <th>Timestamp</th>\n",
       "      <th></th>\n",
       "      <th></th>\n",
       "      <th></th>\n",
       "      <th></th>\n",
       "      <th></th>\n",
       "      <th></th>\n",
       "      <th></th>\n",
       "      <th></th>\n",
       "      <th></th>\n",
       "      <th></th>\n",
       "      <th></th>\n",
       "      <th></th>\n",
       "      <th></th>\n",
       "      <th></th>\n",
       "      <th></th>\n",
       "      <th></th>\n",
       "      <th></th>\n",
       "      <th></th>\n",
       "      <th></th>\n",
       "      <th></th>\n",
       "      <th></th>\n",
       "    </tr>\n",
       "  </thead>\n",
       "  <tbody>\n",
       "    <tr>\n",
       "      <th>4/26/2023 13:48:46</th>\n",
       "      <td>Habiba</td>\n",
       "      <td>Eldababy</td>\n",
       "      <td>hed279@nyu.edu</td>\n",
       "      <td>21</td>\n",
       "      <td>Female</td>\n",
       "      <td>Zyad (Arabic)</td>\n",
       "      <td>Zyad</td>\n",
       "      <td>English</td>\n",
       "      <td>15-20 min</td>\n",
       "      <td>2.0</td>\n",
       "      <td>...</td>\n",
       "      <td>It was a fun experience to ask the avatar ques...</td>\n",
       "      <td>5.0</td>\n",
       "      <td>4.0</td>\n",
       "      <td>4.0</td>\n",
       "      <td>5.0</td>\n",
       "      <td>NaN</td>\n",
       "      <td>NaN</td>\n",
       "      <td>NaN</td>\n",
       "      <td>NaN</td>\n",
       "      <td>NaN</td>\n",
       "    </tr>\n",
       "    <tr>\n",
       "      <th>4/27/2023 12:54:52</th>\n",
       "      <td>Ziad</td>\n",
       "      <td>El Sayed</td>\n",
       "      <td>ze2012@nyu.edu</td>\n",
       "      <td>20</td>\n",
       "      <td>Male</td>\n",
       "      <td>Zyad (Arabic)</td>\n",
       "      <td>Zyad</td>\n",
       "      <td>English</td>\n",
       "      <td>10-15 min</td>\n",
       "      <td>4.0</td>\n",
       "      <td>...</td>\n",
       "      <td>Speaking to the avatar in English and in Arabi...</td>\n",
       "      <td>5.0</td>\n",
       "      <td>5.0</td>\n",
       "      <td>3.0</td>\n",
       "      <td>4.0</td>\n",
       "      <td>NaN</td>\n",
       "      <td>NaN</td>\n",
       "      <td>NaN</td>\n",
       "      <td>NaN</td>\n",
       "      <td>NaN</td>\n",
       "    </tr>\n",
       "    <tr>\n",
       "      <th>4/27/2023 13:32:59</th>\n",
       "      <td>Abed</td>\n",
       "      <td>Amad</td>\n",
       "      <td>aa7301@nyu.edu</td>\n",
       "      <td>21</td>\n",
       "      <td>Male</td>\n",
       "      <td>Zyad (Arabic)</td>\n",
       "      <td>Zeyad</td>\n",
       "      <td>English</td>\n",
       "      <td>10-15 min</td>\n",
       "      <td>3.0</td>\n",
       "      <td>...</td>\n",
       "      <td>The experience of talking to both felt natural...</td>\n",
       "      <td>4.0</td>\n",
       "      <td>4.0</td>\n",
       "      <td>3.0</td>\n",
       "      <td>3.0</td>\n",
       "      <td>NaN</td>\n",
       "      <td>NaN</td>\n",
       "      <td>NaN</td>\n",
       "      <td>NaN</td>\n",
       "      <td>NaN</td>\n",
       "    </tr>\n",
       "    <tr>\n",
       "      <th>4/28/2023 14:41:13</th>\n",
       "      <td>Manuel</td>\n",
       "      <td>Padilla</td>\n",
       "      <td>map971@nyu.edu</td>\n",
       "      <td>22</td>\n",
       "      <td>Male</td>\n",
       "      <td>Andrea (Spanish)</td>\n",
       "      <td>NaN</td>\n",
       "      <td>NaN</td>\n",
       "      <td>NaN</td>\n",
       "      <td>NaN</td>\n",
       "      <td>...</td>\n",
       "      <td>NaN</td>\n",
       "      <td>NaN</td>\n",
       "      <td>NaN</td>\n",
       "      <td>NaN</td>\n",
       "      <td>NaN</td>\n",
       "      <td>It was impressively close to a conversation. I...</td>\n",
       "      <td>5.0</td>\n",
       "      <td>5.0</td>\n",
       "      <td>5.0</td>\n",
       "      <td>5.0</td>\n",
       "    </tr>\n",
       "    <tr>\n",
       "      <th>4/28/2023 16:54:13</th>\n",
       "      <td>Thais</td>\n",
       "      <td>Alvarenga</td>\n",
       "      <td>ata381@nyu.edu</td>\n",
       "      <td>22</td>\n",
       "      <td>Female</td>\n",
       "      <td>Andrea (Spanish)</td>\n",
       "      <td>NaN</td>\n",
       "      <td>NaN</td>\n",
       "      <td>NaN</td>\n",
       "      <td>NaN</td>\n",
       "      <td>...</td>\n",
       "      <td>NaN</td>\n",
       "      <td>NaN</td>\n",
       "      <td>NaN</td>\n",
       "      <td>NaN</td>\n",
       "      <td>NaN</td>\n",
       "      <td>I think that the English version was better. I...</td>\n",
       "      <td>5.0</td>\n",
       "      <td>5.0</td>\n",
       "      <td>3.0</td>\n",
       "      <td>5.0</td>\n",
       "    </tr>\n",
       "  </tbody>\n",
       "</table>\n",
       "<p>5 rows × 68 columns</p>\n",
       "</div>"
      ],
      "text/plain": [
       "                   First Name  Last Name           Email  Age  Gender  \\\n",
       "Timestamp                                                               \n",
       "4/26/2023 13:48:46     Habiba   Eldababy  hed279@nyu.edu   21  Female   \n",
       "4/27/2023 12:54:52       Ziad   El Sayed  ze2012@nyu.edu   20    Male   \n",
       "4/27/2023 13:32:59       Abed       Amad  aa7301@nyu.edu   21    Male   \n",
       "4/28/2023 14:41:13     Manuel    Padilla  map971@nyu.edu   22    Male   \n",
       "4/28/2023 16:54:13     Thais   Alvarenga  ata381@nyu.edu   22  Female   \n",
       "\n",
       "                   Which avatar are you interacting with  \\\n",
       "Timestamp                                                  \n",
       "4/26/2023 13:48:46                         Zyad (Arabic)   \n",
       "4/27/2023 12:54:52                         Zyad (Arabic)   \n",
       "4/27/2023 13:32:59                         Zyad (Arabic)   \n",
       "4/28/2023 14:41:13                      Andrea (Spanish)   \n",
       "4/28/2023 16:54:13                      Andrea (Spanish)   \n",
       "\n",
       "                   Please confirm the name of the avatar you interacted with?  \\\n",
       "Timestamp                                                                       \n",
       "4/26/2023 13:48:46                                               Zyad           \n",
       "4/27/2023 12:54:52                                               Zyad           \n",
       "4/27/2023 13:32:59                                              Zeyad           \n",
       "4/28/2023 14:41:13                                                NaN           \n",
       "4/28/2023 16:54:13                                                NaN           \n",
       "\n",
       "                   Which language did you speak in?  \\\n",
       "Timestamp                                             \n",
       "4/26/2023 13:48:46                          English   \n",
       "4/27/2023 12:54:52                          English   \n",
       "4/27/2023 13:32:59                          English   \n",
       "4/28/2023 14:41:13                              NaN   \n",
       "4/28/2023 16:54:13                              NaN   \n",
       "\n",
       "                   How long was your interaction with the pair of avatars?  \\\n",
       "Timestamp                                                                    \n",
       "4/26/2023 13:48:46                                          15-20 min        \n",
       "4/27/2023 12:54:52                                          10-15 min        \n",
       "4/27/2023 13:32:59                                          10-15 min        \n",
       "4/28/2023 14:41:13                                                NaN        \n",
       "4/28/2023 16:54:13                                                NaN        \n",
       "\n",
       "                    Rate your experience with the Avatar [Ease in finding answers to your questions (excluding questions that you were informed had no prerecorded answers to)]  \\\n",
       "Timestamp                                                                                                                                                                         \n",
       "4/26/2023 13:48:46                                                2.0                                                                                                             \n",
       "4/27/2023 12:54:52                                                4.0                                                                                                             \n",
       "4/27/2023 13:32:59                                                3.0                                                                                                             \n",
       "4/28/2023 14:41:13                                                NaN                                                                                                             \n",
       "4/28/2023 16:54:13                                                NaN                                                                                                             \n",
       "\n",
       "                    ...  \\\n",
       "Timestamp           ...   \n",
       "4/26/2023 13:48:46  ...   \n",
       "4/27/2023 12:54:52  ...   \n",
       "4/27/2023 13:32:59  ...   \n",
       "4/28/2023 14:41:13  ...   \n",
       "4/28/2023 16:54:13  ...   \n",
       "\n",
       "                    How was the experience of talking to the avatar in English vs Arabic? (approx. 100 words)  \\\n",
       "Timestamp                                                                                                       \n",
       "4/26/2023 13:48:46  It was a fun experience to ask the avatar ques...                                           \n",
       "4/27/2023 12:54:52  Speaking to the avatar in English and in Arabi...                                           \n",
       "4/27/2023 13:32:59  The experience of talking to both felt natural...                                           \n",
       "4/28/2023 14:41:13                                                NaN                                           \n",
       "4/28/2023 16:54:13                                                NaN                                           \n",
       "\n",
       "                    Rate your experience with the quality of technology [Quality of sound]  \\\n",
       "Timestamp                                                                                    \n",
       "4/26/2023 13:48:46                                                5.0                        \n",
       "4/27/2023 12:54:52                                                5.0                        \n",
       "4/27/2023 13:32:59                                                4.0                        \n",
       "4/28/2023 14:41:13                                                NaN                        \n",
       "4/28/2023 16:54:13                                                NaN                        \n",
       "\n",
       "                    Rate your experience with the quality of technology [Quality of video]  \\\n",
       "Timestamp                                                                                    \n",
       "4/26/2023 13:48:46                                                4.0                        \n",
       "4/27/2023 12:54:52                                                5.0                        \n",
       "4/27/2023 13:32:59                                                4.0                        \n",
       "4/28/2023 14:41:13                                                NaN                        \n",
       "4/28/2023 16:54:13                                                NaN                        \n",
       "\n",
       "                    Rate your experience with the quality of technology [Ease in using the interface]  \\\n",
       "Timestamp                                                                                               \n",
       "4/26/2023 13:48:46                                                4.0                                   \n",
       "4/27/2023 12:54:52                                                3.0                                   \n",
       "4/27/2023 13:32:59                                                3.0                                   \n",
       "4/28/2023 14:41:13                                                NaN                                   \n",
       "4/28/2023 16:54:13                                                NaN                                   \n",
       "\n",
       "                    Rate your experience with the quality of technology [Quality of subtitles]  \\\n",
       "Timestamp                                                                                        \n",
       "4/26/2023 13:48:46                                                5.0                            \n",
       "4/27/2023 12:54:52                                                4.0                            \n",
       "4/27/2023 13:32:59                                                3.0                            \n",
       "4/28/2023 14:41:13                                                NaN                            \n",
       "4/28/2023 16:54:13                                                NaN                            \n",
       "\n",
       "                    How was the experience of talking to the avatar in English vs Spanish? (approx. 100 words)  \\\n",
       "Timestamp                                                                                                        \n",
       "4/26/2023 13:48:46                                                NaN                                            \n",
       "4/27/2023 12:54:52                                                NaN                                            \n",
       "4/27/2023 13:32:59                                                NaN                                            \n",
       "4/28/2023 14:41:13  It was impressively close to a conversation. I...                                            \n",
       "4/28/2023 16:54:13  I think that the English version was better. I...                                            \n",
       "\n",
       "                   Rate your experience with the quality of technology [Quality of sound].1  \\\n",
       "Timestamp                                                                                     \n",
       "4/26/2023 13:48:46                                                NaN                         \n",
       "4/27/2023 12:54:52                                                NaN                         \n",
       "4/27/2023 13:32:59                                                NaN                         \n",
       "4/28/2023 14:41:13                                                5.0                         \n",
       "4/28/2023 16:54:13                                                5.0                         \n",
       "\n",
       "                   Rate your experience with the quality of technology [Quality of video].1  \\\n",
       "Timestamp                                                                                     \n",
       "4/26/2023 13:48:46                                                NaN                         \n",
       "4/27/2023 12:54:52                                                NaN                         \n",
       "4/27/2023 13:32:59                                                NaN                         \n",
       "4/28/2023 14:41:13                                                5.0                         \n",
       "4/28/2023 16:54:13                                                5.0                         \n",
       "\n",
       "                   Rate your experience with the quality of technology [Ease in using the interface].1  \\\n",
       "Timestamp                                                                                                \n",
       "4/26/2023 13:48:46                                                NaN                                    \n",
       "4/27/2023 12:54:52                                                NaN                                    \n",
       "4/27/2023 13:32:59                                                NaN                                    \n",
       "4/28/2023 14:41:13                                                5.0                                    \n",
       "4/28/2023 16:54:13                                                3.0                                    \n",
       "\n",
       "                   Rate your experience with the quality of technology [Quality of subtitles].1  \n",
       "Timestamp                                                                                        \n",
       "4/26/2023 13:48:46                                                NaN                            \n",
       "4/27/2023 12:54:52                                                NaN                            \n",
       "4/27/2023 13:32:59                                                NaN                            \n",
       "4/28/2023 14:41:13                                                5.0                            \n",
       "4/28/2023 16:54:13                                                5.0                            \n",
       "\n",
       "[5 rows x 68 columns]"
      ]
     },
     "execution_count": 82,
     "metadata": {},
     "output_type": "execute_result"
    }
   ],
   "source": [
    "survey = pd.read_csv('./TOIA Multilingual User Experience Study (Responses) - Form Responses 1.csv', index_col=0)\n",
    "survey.head()"
   ]
  },
  {
   "cell_type": "code",
   "execution_count": 189,
   "metadata": {},
   "outputs": [
    {
     "name": "stdout",
     "output_type": "stream",
     "text": [
      "13.5\n",
      "12.5\n",
      "18.0\n",
      "17.5\n"
     ]
    }
   ],
   "source": [
    "print(survey['How long was your interaction with the pair of avatars?'].dropna().str.split(' ').apply(lambda x : x[0].split('-')).apply(lambda x: (int(x[0])+int(x[1]))/2).mean())\n",
    "print(survey['How long was your interaction with the pair of avatars?.1'].dropna().str.split(' ').apply(lambda x : x[0].split('-')).apply(lambda x: (int(x[0])+int(x[1]))/2).mean())\n",
    "print(survey['How long was your interaction with the pair of avatars?.2'].dropna().str.split(' ').apply(lambda x : x[0].split('-')).apply(lambda x: (int(x[0])+int(x[1]))/2 if x[0] != \"20+\" else 20).mean())\n",
    "print(survey['How long was your interaction with the pair of avatars?.3'].dropna().str.split(' ').apply(lambda x : x[0].split('-')).apply(lambda x: (int(x[0])+int(x[1]))/2 if x[0] != \"20+\" else 20).mean())"
   ]
  },
  {
   "cell_type": "code",
   "execution_count": 190,
   "metadata": {},
   "outputs": [
    {
     "name": "stdout",
     "output_type": "stream",
     "text": [
      "Which interaction did you prefer? (Language you speak in vs Language of the avatar)\n",
      "English/Arabic     2\n",
      "English/English    3\n",
      "Name: Which interaction did you prefer? (Language you speak in vs Language of the avatar), dtype: int64\n",
      "Which interaction did you prefer? (Language you speak in vs Language of the avatar).1\n",
      "Arabic/Arabic     4\n",
      "Arabic/English    1\n",
      "Name: Which interaction did you prefer? (Language you speak in vs Language of the avatar).1, dtype: int64\n",
      "Which interaction did you prefer? (Language you speak in vs Language of the avatar).2\n",
      "English/English    3\n",
      "English/Spanish    2\n",
      "Name: Which interaction did you prefer? (Language you speak in vs Language of the avatar).2, dtype: int64\n",
      "Which interaction did you prefer? (Language you speak in vs Language of the avatar).3\n",
      "English/Spanish    1\n",
      "Spanish/Spanish    4\n",
      "Name: Which interaction did you prefer? (Language you speak in vs Language of the avatar).3, dtype: int64\n"
     ]
    }
   ],
   "source": [
    "print(survey.groupby(['Which interaction did you prefer? (Language you speak in vs Language of the avatar)'])['Which interaction did you prefer? (Language you speak in vs Language of the avatar)'].count())\n",
    "print(survey.groupby(['Which interaction did you prefer? (Language you speak in vs Language of the avatar).1'])['Which interaction did you prefer? (Language you speak in vs Language of the avatar).1'].count())\n",
    "print(survey.groupby(['Which interaction did you prefer? (Language you speak in vs Language of the avatar).2'])['Which interaction did you prefer? (Language you speak in vs Language of the avatar).2'].count())\n",
    "print(survey.groupby(['Which interaction did you prefer? (Language you speak in vs Language of the avatar).3'])['Which interaction did you prefer? (Language you speak in vs Language of the avatar).3'].count())"
   ]
  },
  {
   "cell_type": "code",
   "execution_count": 101,
   "metadata": {},
   "outputs": [
    {
     "data": {
      "text/plain": [
       "Timestamp\n",
       "4/26/2023 13:48:46    It was a fun experience to ask the avatar questions and see their answers. Even when the answers were wrong it was interesting to see the difference between the English and Arabic answers and compare them. I expected the English to perform better, but I was surprised to hear the Arabic answers were correct more often. I am not sure what the intended use of the avatar is, but I found it fun to talk to, so regardless of the usage it seems nice. I believe if it has more answers it will be even more engaging since right now it often returns the same answer over and over again. The Arabic version was more engaging at this point since it returned more accurate answers. Since I know the person who is the avatar for the video and we usually speak in Arabic to each other, speaking in Arabic felt more natural than English.\n",
       "4/27/2023 12:54:52                                                                                                                                                                                                                                                                                                                                                                                                                                                                                                                                                                                                                                         Speaking to the avatar in English and in Arabic actually yielded more or less the exact same response. However, the Arabic avatar was a lot slower to respond, and took more tries to understand what I was saying.\n",
       "4/27/2023 13:32:59                                                                                                                                                                                                                                                                                                                                                                                                                                                                                                                                                               The experience of talking to both felt natural. At some points, the avatar completely disregarded my question and gave me a random answer, at other points it completely surprised me with the accuracy of the answer. I also felt that arabic subtitles had more spelling/grammatical errors\n",
       "4/29/2023 17:50:31                                                                                                                                                                                                                                                                                                                                     Talking to the arabic avatar in Arabic and the english avatar in english was easier than the other way around. speaking in arabic to both avatars was impressive however, they were both slow and the conversation did not feel like it flowed smoothly. it was unable to address all parts of some of the questions and overall was less capable of giving good answers than the english avatar. talking in english also flowed smoothly and appeared to be more informed of the answers than when speaking in arabic.\n",
       "4/30/2023 17:46:36                                                                                                                                                                                                                                                              It felt more natural to interact with the Avatar in Arabic as compared to speaking to in English. It answered more of my questions, and when it did not I could see what it was misinterpreting and was able to rephrase to get my answer (e.g. it told me about the life lesson it had learned when I meant an academic class/lesson, so changing my wording helped me get the answer I wanted). The answers were also repeated more often when I spoke to it in English, but I got a wider range of answers in Arabic (from both avatars) even if they did not answer my question perfectly.\n",
       "Name: How was the experience of talking to the avatar in English vs Arabic? (approx. 100 words), dtype: object"
      ]
     },
     "execution_count": 101,
     "metadata": {},
     "output_type": "execute_result"
    }
   ],
   "source": [
    "pd.set_option('display.max_colwidth', None)\n",
    "survey['How was the experience of talking to the avatar in English vs Arabic? (approx. 100 words)'].dropna()"
   ]
  },
  {
   "attachments": {},
   "cell_type": "markdown",
   "metadata": {},
   "source": [
    "# Similarity score "
   ]
  },
  {
   "cell_type": "code",
   "execution_count": 306,
   "metadata": {},
   "outputs": [
    {
     "data": {
      "image/png": "[encoded data removed]",
      "text/plain": [
       "<Figure size 640x480 with 1 Axes>"
      ]
     },
     "metadata": {},
     "output_type": "display_data"
    },
    {
     "data": {
      "image/png": "[encoded data removed]",
      "text/plain": [
       "<Figure size 640x480 with 1 Axes>"
      ]
     },
     "metadata": {},
     "output_type": "display_data"
    }
   ],
   "source": [
    "sns.histplot(data=df_monolingual, x =\"similarity_score\", kde=True)\n",
    "# plt.title(\"Monolingual\")\n",
    "plt.xlabel(\"Similarity Score\")\n",
    "plt.show()\n",
    "sns.histplot(data=df_crosslingual, x =\"similarity_score\", kde=True)\n",
    "# plt.title(\"Crosslingual\")\n",
    "plt.xlabel(\"Similarity Score\")\n",
    "plt.show()"
   ]
  },
  {
   "cell_type": "code",
   "execution_count": 307,
   "metadata": {},
   "outputs": [
    {
     "name": "stdout",
     "output_type": "stream",
     "text": [
      "4.0639587951925975 0.04418125415275743\n"
     ]
    }
   ],
   "source": [
    "# Levene's test for equal variance\n",
    "stat, p_val = levene(df_monolingual['similarity_score'], df_crosslingual['similarity_score'])\n",
    "print(stat, p_val)\n",
    "\n",
    "# less than 0.05 so we cannot make the assumption that there is equal variance"
   ]
  },
  {
   "cell_type": "code",
   "execution_count": 308,
   "metadata": {},
   "outputs": [
    {
     "name": "stdout",
     "output_type": "stream",
     "text": [
      "2.2504463490678472 0.02472592405666475\n"
     ]
    }
   ],
   "source": [
    "# Perform a two-sample t-test\n",
    "# Welch's t-test for non-equal variance\n",
    "t_stat, p_val = ttest_ind(df_monolingual['similarity_score'], df_crosslingual['similarity_score'], equal_var=False)\n",
    "print(t_stat, p_val)\n",
    "\n",
    "# p value less than 0.05 so statististically significant difference between the similarity scores of monolingual and crosslingual interactions"
   ]
  },
  {
   "attachments": {},
   "cell_type": "markdown",
   "metadata": {},
   "source": [
    "# ratings vs duration"
   ]
  },
  {
   "cell_type": "code",
   "execution_count": 194,
   "metadata": {},
   "outputs": [
    {
     "name": "stdout",
     "output_type": "stream",
     "text": [
      "Timestamp\n",
      "4/26/2023 13:48:46    17.5\n",
      "4/27/2023 12:54:52    12.5\n",
      "4/27/2023 13:32:59    12.5\n",
      "4/29/2023 17:50:31    12.5\n",
      "4/30/2023 17:46:36    12.5\n",
      "Name: How long was your interaction with the pair of avatars?, dtype: float64\n",
      "Timestamp\n",
      "4/26/2023 13:48:46    12.5\n",
      "4/27/2023 12:54:52    12.5\n",
      "4/27/2023 13:32:59    12.5\n",
      "4/29/2023 17:50:31    12.5\n",
      "4/30/2023 17:46:36    12.5\n",
      "Name: How long was your interaction with the pair of avatars?.1, dtype: float64\n",
      "Timestamp\n",
      "4/28/2023 14:41:13    17.5\n",
      "4/28/2023 16:54:13    10.0\n",
      "4/28/2023 17:52:11    17.5\n",
      "4/29/2023 13:59:11    17.5\n",
      "4/29/2023 16:43:58    17.5\n",
      "Name: How long was your interaction with the pair of avatars?.2, dtype: float64\n",
      "Timestamp\n",
      "4/28/2023 14:41:13    10.0\n",
      "4/28/2023 16:54:13    10.0\n",
      "4/28/2023 17:52:11    25.0\n",
      "4/29/2023 13:59:11    25.0\n",
      "4/29/2023 16:43:58    17.5\n",
      "Name: How long was your interaction with the pair of avatars?.3, dtype: float64\n"
     ]
    }
   ],
   "source": [
    "# Zyad English\n",
    "print(survey['How long was your interaction with the pair of avatars?'].dropna().str.split(' ').apply(lambda x : x[0].split('-')).apply(lambda x: (int(x[0])+int(x[1]))/2))\n",
    "# Zyad Arabic\n",
    "print(survey['How long was your interaction with the pair of avatars?.1'].dropna().str.split(' ').apply(lambda x : x[0].split('-')).apply(lambda x: (int(x[0])+int(x[1]))/2))\n",
    "# Andrea English\n",
    "print(survey['How long was your interaction with the pair of avatars?.2'].dropna().str.split(' ').apply(lambda x : x[0].split('-')).apply(lambda x: (int(x[0])+int(x[1]))/2 if x[0] != \"20+\" else 10))\n",
    "# Andrea Spanish\n",
    "print(survey['How long was your interaction with the pair of avatars?.3'].dropna().str.split(' ').apply(lambda x : x[0].split('-')).apply(lambda x: (int(x[0])+int(x[1])/2) if x[0] != \"20+\" else 10))"
   ]
  },
  {
   "cell_type": "code",
   "execution_count": 200,
   "metadata": {},
   "outputs": [
    {
     "name": "stdout",
     "output_type": "stream",
     "text": [
      "           rating\n",
      "user_id          \n",
      "18       3.166667\n",
      "22       3.150943\n",
      "26       3.200000\n",
      "28       1.750000\n",
      "30       2.887097\n",
      "           rating\n",
      "user_id          \n",
      "19       2.600000\n",
      "23       3.296875\n",
      "27       2.964286\n",
      "29       3.093750\n",
      "31       3.777778\n",
      "           rating\n",
      "user_id          \n",
      "11       1.571429\n",
      "14       2.750000\n",
      "16       2.739130\n",
      "32       2.294118\n",
      "34       2.035714\n",
      "           rating\n",
      "user_id          \n",
      "13       1.692308\n",
      "15       2.583333\n",
      "17       2.350000\n",
      "33       2.480000\n",
      "35       2.750000\n"
     ]
    }
   ],
   "source": [
    "df_a_en = df_dialogue[((df_dialogue['toia_id'] == 6) | (df_dialogue['toia_id'] == 7)) & (df_dialogue['interactor_language'] == 'en-US')]\n",
    "print(df_a_en.groupby('user_id').agg({'rating': np.mean}))\n",
    "\n",
    "df_a_es = df_dialogue[((df_dialogue['toia_id'] == 6) | (df_dialogue['toia_id'] == 7)) & (df_dialogue['interactor_language'] == 'es-ES')]\n",
    "print(df_a_es.groupby('user_id').agg({'rating': np.mean}))\n",
    "\n",
    "df_b_en = df_dialogue[((df_dialogue['toia_id'] == 5) | (df_dialogue['toia_id'] == 8)) & (df_dialogue['interactor_language'] == 'en-US')]\n",
    "print(df_b_en.groupby('user_id').agg({'rating': np.mean}))\n",
    "\n",
    "df_b_ar = df_dialogue[((df_dialogue['toia_id'] == 5) | (df_dialogue['toia_id'] == 8)) & (df_dialogue['interactor_language'] == 'ar-AE')]\n",
    "print(df_b_ar.groupby('user_id').agg({'rating': np.mean}))\n"
   ]
  },
  {
   "cell_type": "code",
   "execution_count": 246,
   "metadata": {},
   "outputs": [
    {
     "data": {
      "text/html": [
       "<div>\n",
       "<style scoped>\n",
       "    .dataframe tbody tr th:only-of-type {\n",
       "        vertical-align: middle;\n",
       "    }\n",
       "\n",
       "    .dataframe tbody tr th {\n",
       "        vertical-align: top;\n",
       "    }\n",
       "\n",
       "    .dataframe thead tr th {\n",
       "        text-align: left;\n",
       "    }\n",
       "</style>\n",
       "<table border=\"1\" class=\"dataframe\">\n",
       "  <thead>\n",
       "    <tr>\n",
       "      <th></th>\n",
       "      <th>user_id</th>\n",
       "      <th colspan=\"2\" halign=\"left\">timestamp</th>\n",
       "      <th>rating</th>\n",
       "      <th>min</th>\n",
       "      <th>max</th>\n",
       "      <th>diff</th>\n",
       "    </tr>\n",
       "    <tr>\n",
       "      <th></th>\n",
       "      <th></th>\n",
       "      <th>min</th>\n",
       "      <th>max</th>\n",
       "      <th>mean</th>\n",
       "      <th></th>\n",
       "      <th></th>\n",
       "      <th></th>\n",
       "    </tr>\n",
       "  </thead>\n",
       "  <tbody>\n",
       "    <tr>\n",
       "      <th>0</th>\n",
       "      <td>11</td>\n",
       "      <td>1682500245158</td>\n",
       "      <td>1682500997620</td>\n",
       "      <td>1.571429</td>\n",
       "      <td>2023-04-26 09:10:45.158</td>\n",
       "      <td>2023-04-26 09:23:17.620</td>\n",
       "      <td>12.541033</td>\n",
       "    </tr>\n",
       "    <tr>\n",
       "      <th>1</th>\n",
       "      <td>13</td>\n",
       "      <td>1682501281451</td>\n",
       "      <td>1682501903468</td>\n",
       "      <td>1.692308</td>\n",
       "      <td>2023-04-26 09:28:01.451</td>\n",
       "      <td>2023-04-26 09:38:23.468</td>\n",
       "      <td>10.366950</td>\n",
       "    </tr>\n",
       "    <tr>\n",
       "      <th>2</th>\n",
       "      <td>14</td>\n",
       "      <td>1682583004289</td>\n",
       "      <td>1682584085306</td>\n",
       "      <td>2.750000</td>\n",
       "      <td>2023-04-27 08:10:04.289</td>\n",
       "      <td>2023-04-27 08:28:05.306</td>\n",
       "      <td>18.016950</td>\n",
       "    </tr>\n",
       "    <tr>\n",
       "      <th>3</th>\n",
       "      <td>15</td>\n",
       "      <td>1682584331953</td>\n",
       "      <td>1682585486513</td>\n",
       "      <td>2.583333</td>\n",
       "      <td>2023-04-27 08:32:11.953</td>\n",
       "      <td>2023-04-27 08:51:26.513</td>\n",
       "      <td>19.242667</td>\n",
       "    </tr>\n",
       "    <tr>\n",
       "      <th>4</th>\n",
       "      <td>16</td>\n",
       "      <td>1682586446264</td>\n",
       "      <td>1682587072185</td>\n",
       "      <td>2.739130</td>\n",
       "      <td>2023-04-27 09:07:26.264</td>\n",
       "      <td>2023-04-27 09:17:52.185</td>\n",
       "      <td>10.432017</td>\n",
       "    </tr>\n",
       "    <tr>\n",
       "      <th>5</th>\n",
       "      <td>17</td>\n",
       "      <td>1682587339709</td>\n",
       "      <td>1682587774300</td>\n",
       "      <td>2.350000</td>\n",
       "      <td>2023-04-27 09:22:19.709</td>\n",
       "      <td>2023-04-27 09:29:34.300</td>\n",
       "      <td>7.243183</td>\n",
       "    </tr>\n",
       "    <tr>\n",
       "      <th>6</th>\n",
       "      <td>18</td>\n",
       "      <td>1682675264040</td>\n",
       "      <td>1682676099615</td>\n",
       "      <td>3.166667</td>\n",
       "      <td>2023-04-28 09:47:44.040</td>\n",
       "      <td>2023-04-28 10:01:39.615</td>\n",
       "      <td>13.926250</td>\n",
       "    </tr>\n",
       "    <tr>\n",
       "      <th>7</th>\n",
       "      <td>19</td>\n",
       "      <td>1682676652850</td>\n",
       "      <td>1682678195731</td>\n",
       "      <td>2.600000</td>\n",
       "      <td>2023-04-28 10:10:52.850</td>\n",
       "      <td>2023-04-28 10:36:35.731</td>\n",
       "      <td>25.714683</td>\n",
       "    </tr>\n",
       "    <tr>\n",
       "      <th>8</th>\n",
       "      <td>22</td>\n",
       "      <td>1682682084564</td>\n",
       "      <td>1682683917859</td>\n",
       "      <td>3.150943</td>\n",
       "      <td>2023-04-28 11:41:24.564</td>\n",
       "      <td>2023-04-28 12:11:57.859</td>\n",
       "      <td>30.554917</td>\n",
       "    </tr>\n",
       "    <tr>\n",
       "      <th>9</th>\n",
       "      <td>23</td>\n",
       "      <td>1682684182553</td>\n",
       "      <td>1682686060484</td>\n",
       "      <td>3.296875</td>\n",
       "      <td>2023-04-28 12:16:22.553</td>\n",
       "      <td>2023-04-28 12:47:40.484</td>\n",
       "      <td>31.298850</td>\n",
       "    </tr>\n",
       "    <tr>\n",
       "      <th>10</th>\n",
       "      <td>26</td>\n",
       "      <td>1682687406489</td>\n",
       "      <td>1682688379181</td>\n",
       "      <td>3.200000</td>\n",
       "      <td>2023-04-28 13:10:06.489</td>\n",
       "      <td>2023-04-28 13:26:19.181</td>\n",
       "      <td>16.211533</td>\n",
       "    </tr>\n",
       "    <tr>\n",
       "      <th>11</th>\n",
       "      <td>27</td>\n",
       "      <td>1682688828705</td>\n",
       "      <td>1682689495246</td>\n",
       "      <td>2.964286</td>\n",
       "      <td>2023-04-28 13:33:48.705</td>\n",
       "      <td>2023-04-28 13:44:55.246</td>\n",
       "      <td>11.109017</td>\n",
       "    </tr>\n",
       "    <tr>\n",
       "      <th>12</th>\n",
       "      <td>28</td>\n",
       "      <td>1682770166445</td>\n",
       "      <td>1682771082879</td>\n",
       "      <td>1.750000</td>\n",
       "      <td>2023-04-29 12:09:26.445</td>\n",
       "      <td>2023-04-29 12:24:42.879</td>\n",
       "      <td>15.273900</td>\n",
       "    </tr>\n",
       "    <tr>\n",
       "      <th>13</th>\n",
       "      <td>29</td>\n",
       "      <td>1682771293524</td>\n",
       "      <td>1682772038772</td>\n",
       "      <td>3.093750</td>\n",
       "      <td>2023-04-29 12:28:13.524</td>\n",
       "      <td>2023-04-29 12:40:38.772</td>\n",
       "      <td>12.420800</td>\n",
       "    </tr>\n",
       "    <tr>\n",
       "      <th>14</th>\n",
       "      <td>30</td>\n",
       "      <td>1682759015276</td>\n",
       "      <td>1682760635255</td>\n",
       "      <td>2.887097</td>\n",
       "      <td>2023-04-29 09:03:35.276</td>\n",
       "      <td>2023-04-29 09:30:35.255</td>\n",
       "      <td>26.999650</td>\n",
       "    </tr>\n",
       "    <tr>\n",
       "      <th>15</th>\n",
       "      <td>31</td>\n",
       "      <td>1682760910241</td>\n",
       "      <td>1682762103215</td>\n",
       "      <td>3.777778</td>\n",
       "      <td>2023-04-29 09:35:10.241</td>\n",
       "      <td>2023-04-29 09:55:03.215</td>\n",
       "      <td>19.882900</td>\n",
       "    </tr>\n",
       "    <tr>\n",
       "      <th>16</th>\n",
       "      <td>32</td>\n",
       "      <td>1682773226711</td>\n",
       "      <td>1682774173273</td>\n",
       "      <td>2.294118</td>\n",
       "      <td>2023-04-29 13:00:26.711</td>\n",
       "      <td>2023-04-29 13:16:13.273</td>\n",
       "      <td>15.776033</td>\n",
       "    </tr>\n",
       "    <tr>\n",
       "      <th>17</th>\n",
       "      <td>33</td>\n",
       "      <td>1682774311447</td>\n",
       "      <td>1682775889064</td>\n",
       "      <td>2.480000</td>\n",
       "      <td>2023-04-29 13:18:31.447</td>\n",
       "      <td>2023-04-29 13:44:49.064</td>\n",
       "      <td>26.293617</td>\n",
       "    </tr>\n",
       "    <tr>\n",
       "      <th>18</th>\n",
       "      <td>34</td>\n",
       "      <td>1682860595322</td>\n",
       "      <td>1682861265024</td>\n",
       "      <td>2.035714</td>\n",
       "      <td>2023-04-30 13:16:35.322</td>\n",
       "      <td>2023-04-30 13:27:45.024</td>\n",
       "      <td>11.161700</td>\n",
       "    </tr>\n",
       "    <tr>\n",
       "      <th>19</th>\n",
       "      <td>35</td>\n",
       "      <td>1682861459802</td>\n",
       "      <td>1682862100193</td>\n",
       "      <td>2.750000</td>\n",
       "      <td>2023-04-30 13:30:59.802</td>\n",
       "      <td>2023-04-30 13:41:40.193</td>\n",
       "      <td>10.673183</td>\n",
       "    </tr>\n",
       "  </tbody>\n",
       "</table>\n",
       "</div>"
      ],
      "text/plain": [
       "   user_id      timestamp                   rating                     min  \\\n",
       "                      min            max      mean                           \n",
       "0       11  1682500245158  1682500997620  1.571429 2023-04-26 09:10:45.158   \n",
       "1       13  1682501281451  1682501903468  1.692308 2023-04-26 09:28:01.451   \n",
       "2       14  1682583004289  1682584085306  2.750000 2023-04-27 08:10:04.289   \n",
       "3       15  1682584331953  1682585486513  2.583333 2023-04-27 08:32:11.953   \n",
       "4       16  1682586446264  1682587072185  2.739130 2023-04-27 09:07:26.264   \n",
       "5       17  1682587339709  1682587774300  2.350000 2023-04-27 09:22:19.709   \n",
       "6       18  1682675264040  1682676099615  3.166667 2023-04-28 09:47:44.040   \n",
       "7       19  1682676652850  1682678195731  2.600000 2023-04-28 10:10:52.850   \n",
       "8       22  1682682084564  1682683917859  3.150943 2023-04-28 11:41:24.564   \n",
       "9       23  1682684182553  1682686060484  3.296875 2023-04-28 12:16:22.553   \n",
       "10      26  1682687406489  1682688379181  3.200000 2023-04-28 13:10:06.489   \n",
       "11      27  1682688828705  1682689495246  2.964286 2023-04-28 13:33:48.705   \n",
       "12      28  1682770166445  1682771082879  1.750000 2023-04-29 12:09:26.445   \n",
       "13      29  1682771293524  1682772038772  3.093750 2023-04-29 12:28:13.524   \n",
       "14      30  1682759015276  1682760635255  2.887097 2023-04-29 09:03:35.276   \n",
       "15      31  1682760910241  1682762103215  3.777778 2023-04-29 09:35:10.241   \n",
       "16      32  1682773226711  1682774173273  2.294118 2023-04-29 13:00:26.711   \n",
       "17      33  1682774311447  1682775889064  2.480000 2023-04-29 13:18:31.447   \n",
       "18      34  1682860595322  1682861265024  2.035714 2023-04-30 13:16:35.322   \n",
       "19      35  1682861459802  1682862100193  2.750000 2023-04-30 13:30:59.802   \n",
       "\n",
       "                       max       diff  \n",
       "                                       \n",
       "0  2023-04-26 09:23:17.620  12.541033  \n",
       "1  2023-04-26 09:38:23.468  10.366950  \n",
       "2  2023-04-27 08:28:05.306  18.016950  \n",
       "3  2023-04-27 08:51:26.513  19.242667  \n",
       "4  2023-04-27 09:17:52.185  10.432017  \n",
       "5  2023-04-27 09:29:34.300   7.243183  \n",
       "6  2023-04-28 10:01:39.615  13.926250  \n",
       "7  2023-04-28 10:36:35.731  25.714683  \n",
       "8  2023-04-28 12:11:57.859  30.554917  \n",
       "9  2023-04-28 12:47:40.484  31.298850  \n",
       "10 2023-04-28 13:26:19.181  16.211533  \n",
       "11 2023-04-28 13:44:55.246  11.109017  \n",
       "12 2023-04-29 12:24:42.879  15.273900  \n",
       "13 2023-04-29 12:40:38.772  12.420800  \n",
       "14 2023-04-29 09:30:35.255  26.999650  \n",
       "15 2023-04-29 09:55:03.215  19.882900  \n",
       "16 2023-04-29 13:16:13.273  15.776033  \n",
       "17 2023-04-29 13:44:49.064  26.293617  \n",
       "18 2023-04-30 13:27:45.024  11.161700  \n",
       "19 2023-04-30 13:41:40.193  10.673183  "
      ]
     },
     "execution_count": 246,
     "metadata": {},
     "output_type": "execute_result"
    }
   ],
   "source": [
    "interaction_times = df_dialogue.groupby('user_id').agg({'timestamp': ['min', 'max'], 'rating': 'mean'})\n",
    "interaction_times['min'] = pd.to_datetime(interaction_times['timestamp']['min'], unit='ms')\n",
    "interaction_times['max'] = pd.to_datetime(interaction_times['timestamp']['max'], unit='ms')\n",
    "interaction_times['diff'] = (interaction_times['max'] - interaction_times['min']).dt.total_seconds() / 60\n",
    "interaction_times.reset_index(inplace=True)"
   ]
  },
  {
   "cell_type": "code",
   "execution_count": 239,
   "metadata": {},
   "outputs": [],
   "source": [
    "zyad_english = [11, 14, 16, 32, 34]\n",
    "zyad_arabic = [13, 15, 17, 33, 35]\n",
    "\n",
    "andrea_english = [18, 22, 26, 28, 30]\n",
    "andrea_spanish = [19, 23, 27, 29, 31] "
   ]
  },
  {
   "cell_type": "code",
   "execution_count": 242,
   "metadata": {},
   "outputs": [
    {
     "name": "stdout",
     "output_type": "stream",
     "text": [
      "13.585546666666668\n",
      "14.763919999999999\n",
      "20.59325\n",
      "20.085250000000002\n"
     ]
    }
   ],
   "source": [
    "print(interaction_times[interaction_times['user_id'].isin(zyad_english)]['diff'].mean())\n",
    "print(interaction_times[interaction_times['user_id'].isin(zyad_arabic)]['diff'].mean())\n",
    "print(interaction_times[interaction_times['user_id'].isin(andrea_english)]['diff'].mean())\n",
    "print(interaction_times[interaction_times['user_id'].isin(andrea_spanish)]['diff'].mean())"
   ]
  },
  {
   "cell_type": "code",
   "execution_count": 253,
   "metadata": {},
   "outputs": [
    {
     "data": {
      "image/png": "[encoded data removed]",
      "text/plain": [
       "<Figure size 640x480 with 1 Axes>"
      ]
     },
     "metadata": {},
     "output_type": "display_data"
    }
   ],
   "source": [
    "from scipy.stats import pearsonr\n",
    "ax = sns.regplot(interaction_times, x='rating', y='diff')\n",
    "plt.xlabel('Average Rating')\n",
    "plt.ylabel('Duration of Interaction (minutes)')\n",
    "# plt.title('Rating vs Cosine Similarity')\n",
    "# call the scipy function for pearson correlation\n",
    "r, p = pearsonr(x=interaction_times['rating']['mean'], y=interaction_times['diff'])\n",
    "# annotate the pearson correlation coefficient text to 2 decimal places\n",
    "plt.text(.75, .85, 'r={:.2f}'.format(r), transform=ax.transAxes)\n",
    "\n",
    "plt.show()"
   ]
  },
  {
   "cell_type": "code",
   "execution_count": null,
   "metadata": {},
   "outputs": [],
   "source": []
  }
 ],
 "metadata": {
  "kernelspec": {
   "display_name": "env",
   "language": "python",
   "name": "python3"
  },
  "language_info": {
   "codemirror_mode": {
    "name": "ipython",
    "version": 3
   },
   "file_extension": ".py",
   "mimetype": "text/x-python",
   "name": "python",
   "nbconvert_exporter": "python",
   "pygments_lexer": "ipython3",
   "version": "3.10.10"
  },
  "orig_nbformat": 4
 },
 "nbformat": 4,
 "nbformat_minor": 2
}
